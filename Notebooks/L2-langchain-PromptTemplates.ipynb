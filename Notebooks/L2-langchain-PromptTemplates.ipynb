{
 "cells": [
  {
   "cell_type": "code",
   "execution_count": 1,
   "id": "2db97323",
   "metadata": {},
   "outputs": [],
   "source": [
    "from langchain_google_genai import ChatGoogleGenerativeAI\n",
    "from dotenv import load_dotenv\n",
    "\n",
    "load_dotenv()\n",
    "\n",
    "model = ChatGoogleGenerativeAI(\n",
    "    model=\"gemini-1.5-flash\",\n",
    "    temperature=0.5\n",
    ")\n"
   ]
  },
  {
   "cell_type": "markdown",
   "id": "1008dbf5",
   "metadata": {},
   "source": [
    "#### **Static Prompt**"
   ]
  },
  {
   "cell_type": "code",
   "execution_count": 2,
   "id": "4a1ac60d",
   "metadata": {},
   "outputs": [
    {
     "name": "stdout",
     "output_type": "stream",
     "text": [
      "Ich wurde von Google trainiert und spreche viele Sprachen. Ich kann Texte auf Deutsch verstehen und generieren.  Ich kann auch in anderen Sprachen kommunizieren, aber meine Fähigkeiten variieren je nach Sprache.  Meine Stärke liegt in der Verarbeitung und Generierung von Texten, nicht im direkten Sprechen.\n"
     ]
    }
   ],
   "source": [
    "response = model.invoke(\"Welche sprachen sprichst du?\")\n",
    "print(response.content)"
   ]
  },
  {
   "cell_type": "markdown",
   "id": "4968667a",
   "metadata": {},
   "source": [
    "#### **Dynamic Prompt Template**"
   ]
  },
  {
   "cell_type": "code",
   "execution_count": 4,
   "id": "46952bcd",
   "metadata": {},
   "outputs": [
    {
     "name": "stdout",
     "output_type": "stream",
     "text": [
      "I don't know.\n"
     ]
    }
   ],
   "source": [
    "from langchain_core.prompts import PromptTemplate\n",
    "\n",
    "prompt = PromptTemplate(\n",
    "    template=\"\"\"\n",
    "    You are a {profession}, who only talks about related subject.\n",
    "    If someone asks you a question that is not related to your profession, you will answer with \"I don't know\".\n",
    "    \n",
    "    Answer the following question:\n",
    "    {question}\n",
    "    \"\"\",\n",
    "    input_variables=[\"profession\", \"question\"]\n",
    ")\n",
    "\n",
    "prompt_template = prompt.invoke(\n",
    "    {\n",
    "        \"profession\": \"doctor\",\n",
    "        \"question\": \"What is the capital of France?\"\n",
    "    }\n",
    ")\n",
    "\n",
    "response = model.invoke(prompt_template)\n",
    "print(response.content)"
   ]
  },
  {
   "cell_type": "markdown",
   "id": "0c1e221e",
   "metadata": {},
   "source": [
    "##### **Save and Load Template**"
   ]
  },
  {
   "cell_type": "code",
   "execution_count": 5,
   "id": "b762e942",
   "metadata": {},
   "outputs": [],
   "source": [
    "prompt.save('template.json')"
   ]
  },
  {
   "cell_type": "code",
   "execution_count": 6,
   "id": "6c4f883e",
   "metadata": {},
   "outputs": [],
   "source": [
    "from langchain_core.prompts import load_prompt\n",
    "\n",
    "template = load_prompt('template.json')"
   ]
  },
  {
   "cell_type": "markdown",
   "id": "e2522f8c",
   "metadata": {},
   "source": [
    "#### **Chat Prompt Template**"
   ]
  },
  {
   "cell_type": "code",
   "execution_count": null,
   "id": "c4e79b4c",
   "metadata": {},
   "outputs": [],
   "source": [
    "# from langchain_core.prompts import ChatPromptTemplate, MessagesPlaceholder\n",
    "# from langchain_core.messages import HumanMessage, AIMessage, SystemMessage\n",
    "\n"
   ]
  }
 ],
 "metadata": {
  "kernelspec": {
   "display_name": "venv",
   "language": "python",
   "name": "python3"
  },
  "language_info": {
   "codemirror_mode": {
    "name": "ipython",
    "version": 3
   },
   "file_extension": ".py",
   "mimetype": "text/x-python",
   "name": "python",
   "nbconvert_exporter": "python",
   "pygments_lexer": "ipython3",
   "version": "3.10.12"
  }
 },
 "nbformat": 4,
 "nbformat_minor": 5
}
