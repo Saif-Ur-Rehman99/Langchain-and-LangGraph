{
 "cells": [
  {
   "cell_type": "markdown",
   "id": "faacb7e2",
   "metadata": {},
   "source": [
    "### Output Parser\n",
    "- Structure Output Parser"
   ]
  },
  {
   "cell_type": "markdown",
   "id": "c5b68cf8",
   "metadata": {},
   "source": [
    "**Motivation**\n",
    "- The biggest advantage of LLM is they can talk with humans in Natural Language\n",
    "- What if we can make them talk with different machines and Systems (like APIs Databases)\n",
    "- In future we will study about Agents - this topic will be very useful "
   ]
  },
  {
   "cell_type": "code",
   "execution_count": null,
   "id": "4a85ea58",
   "metadata": {},
   "outputs": [
    {
     "data": {
      "text/plain": [
       "True"
      ]
     },
     "execution_count": 1,
     "metadata": {},
     "output_type": "execute_result"
    }
   ],
   "source": [
    "from dotenv import load_dotenv\n",
    "load_dotenv()"
   ]
  },
  {
   "cell_type": "code",
   "execution_count": 6,
   "id": "542aa650",
   "metadata": {},
   "outputs": [
    {
     "name": "stderr",
     "output_type": "stream",
     "text": [
      "/home/saif/Documents/Learning_Playlists/Langchain-and-LangGraph/venv/lib/python3.10/site-packages/langchain_openai/chat_models/base.py:1686: UserWarning: Cannot use method='json_schema' with model gpt-4 since it doesn't support OpenAI's Structured Output API. You can see supported models here: https://platform.openai.com/docs/guides/structured-outputs#supported-models. To fix this warning, set `method='function_calling'. Overriding to method='function_calling'.\n",
      "  warnings.warn(\n"
     ]
    },
    {
     "data": {
      "text/plain": [
       "{'review': 'The headphones deliver excellent sound quality with deep bass and crisp highs.I love the long battery life and comfortable fit for all-day use. However, the touch controls can be overly sensitive and sometimes frustrating to use.',\n",
       " 'sentiment': 'POS',\n",
       " 'pros': ['Excellent sound quality', 'Long battery life'],\n",
       " 'cons': ['Overly sensitive touch controls']}"
      ]
     },
     "execution_count": 6,
     "metadata": {},
     "output_type": "execute_result"
    }
   ],
   "source": [
    "from typing import TypedDict, List, Annotated\n",
    "from langchain_openai import ChatOpenAI\n",
    "\n",
    "\n",
    "class OutputFormat(TypedDict):    \n",
    "    review: Annotated[str, \"summary of the review\"]\n",
    "    sentiment: Annotated[str, 'User sentiments [\"POS\", \"NEG\", \"NEU\"]']\n",
    "    pros: Annotated[List[str], \"Only 2 Pro\"]\n",
    "    cons: List[str]\n",
    "\n",
    "\n",
    "model = ChatOpenAI(model=\"gpt-4\")\n",
    "\n",
    "formatted_model = model.with_structured_output(OutputFormat)\n",
    "\n",
    "response = formatted_model.invoke(\"\"\"\n",
    "Review: The headphones deliver excellent sound quality with deep bass and crisp highs.\n",
    "I love the long battery life and comfortable fit for all-day use.\n",
    "However, the touch controls can be overly sensitive and sometimes frustrating to use.\n",
    "\"\"\")\n",
    "\n",
    "response"
   ]
  },
  {
   "cell_type": "code",
   "execution_count": null,
   "id": "8b7cfaa5",
   "metadata": {},
   "outputs": [
    {
     "data": {
      "text/plain": [
       "dict"
      ]
     },
     "execution_count": 4,
     "metadata": {},
     "output_type": "execute_result"
    }
   ],
   "source": [
    "type(response)"
   ]
  },
  {
   "cell_type": "code",
   "execution_count": 1,
   "id": "b0ef3df6",
   "metadata": {},
   "outputs": [
    {
     "name": "stdout",
     "output_type": "stream",
     "text": [
      "No World War 3 exists; current conflicts are regional, not globally engaged.  Several factors could trigger future large-scale conflict, including great power competition (US-China), nuclear proliferation, and regional wars acting as proxy conflicts.  Cyber warfare, climate change, and terrorism further destabilize the global landscape.  A useful report would analyze these risks, potential escalation scenarios, and preventative measures.\n"
     ]
    }
   ],
   "source": [
    "from langchain_core.output_parsers import StrOutputParser\n",
    "from langchain_google_genai import ChatGoogleGenerativeAI\n",
    "from langchain_core.prompts import PromptTemplate\n",
    "\n",
    "model = ChatGoogleGenerativeAI(model=\"gemini-1.5-flash\")\n",
    "\n",
    "template1 = PromptTemplate(\n",
    "    template=\"write a detailed report on {topic}\",\n",
    "    input_variables=[\"topic\"]\n",
    ")\n",
    "\n",
    "template2 = PromptTemplate(\n",
    "    template=\"write a 5 line summary on the following text \\n {text}\",\n",
    "    input_variables=[\"text\"]\n",
    ")\n",
    "\n",
    "string_parser = StrOutputParser()\n",
    "\n",
    "\n",
    "chain = template1 | model | string_parser | template2 | model | string_parser\n",
    "\n",
    "result = chain.invoke({\"topic\": \"World war 3\"})\n",
    "\n",
    "print(result)"
   ]
  },
  {
   "cell_type": "code",
   "execution_count": 2,
   "id": "6190134d",
   "metadata": {},
   "outputs": [],
   "source": [
    "bio = \"\"\"John Doe is a 28-year-old software engineer based in San Francisco.\n",
    "       His email address is johndoe.example@gmail.com, and he's passionate about machine learning, \n",
    "       open-source projects, and hiking. In his bio, he describes himself as a 'tech enthusiast who loves solving \n",
    "       complex problems with elegant code.' You can find his professional background on LinkedIn: \n",
    "       linkedin.com/in/johndoe-profile. When he's not coding, John enjoys exploring new coffee shops and \n",
    "       attending tech meetups in the Bay Area.\"\"\"\n"
   ]
  },
  {
   "cell_type": "code",
   "execution_count": 3,
   "id": "52051abe",
   "metadata": {},
   "outputs": [],
   "source": [
    "# Homework\n",
    "# 1: JSON OutPut Parser\n",
    "# 2: CSV Parser"
   ]
  },
  {
   "cell_type": "code",
   "execution_count": null,
   "id": "d633ca91",
   "metadata": {},
   "outputs": [],
   "source": []
  }
 ],
 "metadata": {
  "kernelspec": {
   "display_name": "venv",
   "language": "python",
   "name": "python3"
  },
  "language_info": {
   "codemirror_mode": {
    "name": "ipython",
    "version": 3
   },
   "file_extension": ".py",
   "mimetype": "text/x-python",
   "name": "python",
   "nbconvert_exporter": "python",
   "pygments_lexer": "ipython3",
   "version": "3.10.12"
  }
 },
 "nbformat": 4,
 "nbformat_minor": 5
}
